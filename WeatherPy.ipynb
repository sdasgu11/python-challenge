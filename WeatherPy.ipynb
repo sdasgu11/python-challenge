{
 "cells": [
  {
   "cell_type": "markdown",
   "metadata": {},
   "source": [
    "# WeatherPy\n",
    "----\n",
    "\n",
    "### Analysis\n",
    "* As expected, the weather becomes significantly warmer as one approaches the equator (0 Deg. Latitude). More interestingly, however, is the fact that the southern hemisphere tends to be warmer this time of year than the northern hemisphere. This may be due to the tilt of the earth.\n",
    "* There is no strong relationship between latitude and cloudiness. However, it is interesting to see that a strong band of cities sits at 0, 80, and 100% cloudiness.\n",
    "* There is no strong relationship between latitude and wind speed. However, in northern hemispheres there is a flurry of cities with over 20 mph of wind.\n",
    "\n",
    "---\n",
    "\n",
    "#### Note\n",
    "* Instructions have been included for each segment. You do not have to follow them exactly, but they are included to help you think through the steps."
   ]
  },
  {
   "cell_type": "code",
   "execution_count": 68,
   "metadata": {
    "scrolled": true
   },
   "outputs": [],
   "source": [
    "# Dependencies and Setup\n",
    "from citipy import citipy\n",
    "import matplotlib.pyplot as plt\n",
    "import pandas as pd\n",
    "import numpy as np\n",
    "import requests\n",
    "import time\n",
    "import json\n",
    "import pprint as pp\n",
    "# Import API key\n",
    "from api_keys import api_key\n",
    "# Incorporated citipy to determine city based on latitude and longitude\n",
    "# Output File (CSV)\n",
    "output_data_file = \"output_data/cities.csv\"\n",
    "# Range of latitudes and longitudes\n",
    "lat_range = (-90, 90)\n",
    "lng_range = (-180, 180)\n",
    "\n",
    "url = \"http://api.openweathermap.org/data/2.5/weather?\"\n"
   ]
  },
  {
   "cell_type": "markdown",
   "metadata": {},
   "source": [
    "## Generate Cities List"
   ]
  },
  {
   "cell_type": "code",
   "execution_count": 69,
   "metadata": {},
   "outputs": [
    {
     "name": "stdout",
     "output_type": "stream",
     "text": [
      "<zip object at 0x125426c08>\n"
     ]
    },
    {
     "data": {
      "text/plain": [
       "640"
      ]
     },
     "execution_count": 69,
     "metadata": {},
     "output_type": "execute_result"
    }
   ],
   "source": [
    "# List for holding lat_lngs and cities\n",
    "lat_lngs = []\n",
    "cities = []\n",
    "\n",
    "\n",
    "# Create a set of random lat and lng combinations\n",
    "lats = np.random.uniform(low=-90.000, high=90.000, size=1500)\n",
    "lngs = np.random.uniform(low=-180.000, high=180.000, size=1500)\n",
    "coordinates = zip(lats, lngs)\n",
    "print(coordinates)\n",
    "# Identify nearest city for each lat, lng combination\n",
    "for lat_lng in coordinates:\n",
    "    city = citipy.nearest_city(lat_lng[0], lat_lng[1]).city_name\n",
    "    # If the city is unique, then add it to a our cities list\n",
    "    if city not in cities:\n",
    "        cities.append(city)\n",
    "# Print the city count to confirm sufficient count\n",
    "\n",
    "\n",
    "Myweather_df = pd.DataFrame(cities)\n",
    "Myweather_df = Myweather_df.rename(columns ={0:'City'})\n",
    "\n",
    "Myweather_df['Cloudiness'] = \"\"\n",
    "Myweather_df['Country'] = \"\"\n",
    "Myweather_df['Date'] = \"\"\n",
    "Myweather_df['Humidity'] = \"\"\n",
    "Myweather_df['Lat'] = \"\"\n",
    "Myweather_df['Lng'] = \"\"  \n",
    "Myweather_df['Max Temp'] = \"\"\n",
    "Myweather_df['Wind Speed'] = \"\"\n",
    "len(cities)"
   ]
  },
  {
   "cell_type": "code",
   "execution_count": 70,
   "metadata": {},
   "outputs": [
    {
     "data": {
      "text/plain": [
       "City          640\n",
       "Cloudiness    640\n",
       "Country       640\n",
       "Date          640\n",
       "Humidity      640\n",
       "Lat           640\n",
       "Lng           640\n",
       "Max Temp      640\n",
       "Wind Speed    640\n",
       "dtype: int64"
      ]
     },
     "execution_count": 70,
     "metadata": {},
     "output_type": "execute_result"
    }
   ],
   "source": [
    "Myweather_df.count()"
   ]
  },
  {
   "cell_type": "markdown",
   "metadata": {},
   "source": [
    "### Perform API Calls\n",
    "* Perform a weather check on each city using a series of successive API calls.\n",
    "* Include a print log of each city as it'sbeing processed (with the city number and city name).\n",
    "Endpoint:\n",
    "- Please, use the endpoint api.openweathermap.org for your API calls\n",
    "- Example of API call:\n",
    "api.openweathermap.org/data/2.5/weather?q=London,uk&APPID=756e0bc6a64c6175883310753f031dd5"
   ]
  },
  {
   "cell_type": "code",
   "execution_count": 71,
   "metadata": {},
   "outputs": [
    {
     "name": "stdout",
     "output_type": "stream",
     "text": [
      "Beginning Data Retrieval\n",
      "------------------------\n",
      "Processing Record 1 of Set 1|rafaela\n"
     ]
    },
    {
     "ename": "KeyError",
     "evalue": "'sys'",
     "output_type": "error",
     "traceback": [
      "\u001b[0;31m---------------------------------------------------------------------------\u001b[0m",
      "\u001b[0;31mKeyError\u001b[0m                                  Traceback (most recent call last)",
      "\u001b[0;32m<ipython-input-71-8a83471e6b7e>\u001b[0m in \u001b[0;36m<module>\u001b[0;34m()\u001b[0m\n\u001b[1;32m     19\u001b[0m     \u001b[0;31m#print(query_url)\u001b[0m\u001b[0;34m\u001b[0m\u001b[0;34m\u001b[0m\u001b[0m\n\u001b[1;32m     20\u001b[0m     \u001b[0;32mif\u001b[0m \u001b[0mweather_json\u001b[0m\u001b[0;34m[\u001b[0m\u001b[0;34m'cod'\u001b[0m\u001b[0;34m]\u001b[0m \u001b[0;34m!=\u001b[0m \u001b[0;34m\"404\"\u001b[0m \u001b[0;34m:\u001b[0m\u001b[0;34m\u001b[0m\u001b[0m\n\u001b[0;32m---> 21\u001b[0;31m         \u001b[0mMyweather_df\u001b[0m\u001b[0;34m.\u001b[0m\u001b[0mloc\u001b[0m\u001b[0;34m[\u001b[0m\u001b[0mindex\u001b[0m\u001b[0;34m,\u001b[0m\u001b[0;34m'Country'\u001b[0m\u001b[0;34m]\u001b[0m \u001b[0;34m=\u001b[0m \u001b[0mweather_json\u001b[0m\u001b[0;34m[\u001b[0m\u001b[0;34m\"sys\"\u001b[0m\u001b[0;34m]\u001b[0m\u001b[0;34m[\u001b[0m\u001b[0;34m\"country\"\u001b[0m\u001b[0;34m]\u001b[0m\u001b[0;34m\u001b[0m\u001b[0m\n\u001b[0m\u001b[1;32m     22\u001b[0m         \u001b[0mMyweather_df\u001b[0m\u001b[0;34m.\u001b[0m\u001b[0mloc\u001b[0m\u001b[0;34m[\u001b[0m\u001b[0mindex\u001b[0m\u001b[0;34m,\u001b[0m \u001b[0;34m'Cloudiness'\u001b[0m\u001b[0;34m]\u001b[0m \u001b[0;34m=\u001b[0m \u001b[0mweather_json\u001b[0m\u001b[0;34m[\u001b[0m\u001b[0;34m'clouds'\u001b[0m\u001b[0;34m]\u001b[0m\u001b[0;34m[\u001b[0m\u001b[0;34m'all'\u001b[0m\u001b[0;34m]\u001b[0m\u001b[0;34m\u001b[0m\u001b[0m\n\u001b[1;32m     23\u001b[0m         \u001b[0mMyweather_df\u001b[0m\u001b[0;34m.\u001b[0m\u001b[0mloc\u001b[0m\u001b[0;34m[\u001b[0m\u001b[0mindex\u001b[0m\u001b[0;34m,\u001b[0m \u001b[0;34m'Date'\u001b[0m\u001b[0;34m]\u001b[0m \u001b[0;34m=\u001b[0m \u001b[0mweather_json\u001b[0m\u001b[0;34m[\u001b[0m\u001b[0;34m'dt'\u001b[0m\u001b[0;34m]\u001b[0m\u001b[0;34m\u001b[0m\u001b[0m\n",
      "\u001b[0;31mKeyError\u001b[0m: 'sys'"
     ]
    }
   ],
   "source": [
    "rCount=0;\n",
    "set = 0\n",
    "print(\"Beginning Data Retrieval\")\n",
    "print(\"------------------------\")      \n",
    "for index, row in Myweather_df.iterrows():\n",
    "    a=row['City']\n",
    "    if rCount%50 ==0: \n",
    "        rCount = 1\n",
    "        set = set + 1\n",
    "    else:\n",
    "        rCount=rCount+1\n",
    "    # Build query URL based on current element in units\n",
    "    query_url = url + \"appid=\" + api_key + \"&q=\" + a\n",
    "    print(\"Processing Record \" + str(rCount) + \" of Set \" + str(set) + \"|\" + str(a))\n",
    "\n",
    "    # Get weather data\n",
    "    weather_response = requests.get(query_url)\n",
    "    weather_json = weather_response.json()\n",
    "    #print(query_url)\n",
    "    if weather_json['cod'] != \"404\" :\n",
    "        Myweather_df.loc[index,'Country'] = weather_json[\"sys\"][\"country\"]\n",
    "        Myweather_df.loc[index, 'Cloudiness'] = weather_json['clouds']['all']\n",
    "        Myweather_df.loc[index, 'Date'] = weather_json['dt']\n",
    "        Myweather_df.loc[index, 'Humidity'] = weather_json['main']['humidity']\n",
    "        Myweather_df.loc[index, 'Lat'] = weather_json['coord']['lat']\n",
    "        Myweather_df.loc[index, 'Lng'] = weather_json['coord']['lon']\n",
    "        Myweather_df.loc[index, 'Max Temp'] = weather_json['main']['temp_max']\n",
    "        Myweather_df.loc[index, 'Wind Speed'] = weather_json['wind']['speed']\n",
    "    \n",
    " \n",
    "  "
   ]
  },
  {
   "cell_type": "code",
   "execution_count": null,
   "metadata": {},
   "outputs": [],
   "source": [
    "Myweather_df['Lat'] = pd.to_numeric(Myweather_df['Lat'])\n",
    "Myweather_df['Max Temp'] = pd.to_numeric(Myweather_df['Max Temp'])\n",
    "Myweather_df['Cloudiness'] = pd.to_numeric(Myweather_df['Cloudiness'])\n",
    "Myweather_df['Humidity'] = pd.to_numeric(Myweather_df['Humidity'])\n",
    "Myweather_df['Max Temp'] = pd.to_numeric(Myweather_df['Max Temp'])\n",
    "Myweather_df['Wind Speed'] = pd.to_numeric(Myweather_df['Wind Speed'])"
   ]
  },
  {
   "cell_type": "markdown",
   "metadata": {},
   "source": [
    "### Convert Raw Data to DataFrame\n",
    "* Export the city data into a .csv.\n",
    "* Display the DataFrame\n",
    "* Latitude,Humidity, Cloudiness, Windspeed."
   ]
  },
  {
   "cell_type": "code",
   "execution_count": null,
   "metadata": {},
   "outputs": [],
   "source": [
    "Myweather_df.loc[index, 'Date'] = pd.to_numeric(weather_json['dt'],errors='coerce')\n",
    "#Myweather_df['Lat'] = Myweather_df['Lat'].astype(int)\n",
    "weather_pd = pd.DataFrame(cities)\n",
    "weather_pd.to_csv(\"output_data_file.csv\", encoding=\"utf-8\", index=False)\n",
    "weather_pd = weather_pd.rename(columns ={0:'City'})\n",
    "Myweather_df"
   ]
  },
  {
   "cell_type": "markdown",
   "metadata": {},
   "source": [
    "### Plotting the Data\n",
    "* Use proper labeling of the plots using plot titles (including date of analysis) and axes labels.\n",
    "* Save the plotted figures as .pngs."
   ]
  },
  {
   "cell_type": "markdown",
   "metadata": {},
   "source": [
    "#### Latitude vs. Temperature Plot"
   ]
  },
  {
   "cell_type": "code",
   "execution_count": null,
   "metadata": {},
   "outputs": [],
   "source": [
    "#plt.figure(figsize=(10,6))\n",
    "Myweather_df.head()\n",
    "#plt.scatter(temp, sales, marker=\"o\", facecolors=\"red\", edgecolors=\"black\")\n",
    "plt.scatter([data for data in Myweather_df['Lat']] ,[data for data in Myweather_df['Max Temp']]\n",
    ",marker=\"o\",c='teal', edgecolors=\"black\")                  \n",
    "#plt.scatter([Myweather_df['Lat']],[Myweather_df['Max Temp']])\n",
    "plt.grid()\n",
    "plt.title(\"Latitude vs. Temperature Plot (\" + (time.strftime(\"%d/%m/%Y\"))+\" )\")\n",
    "plt.xlabel(\"Latitude\")\n",
    "plt.ylabel(\"Max Temperature(F)\")\n",
    "plt.savefig('lat_temp.png')\n",
    "#plt.show()"
   ]
  },
  {
   "cell_type": "markdown",
   "metadata": {},
   "source": [
    "#### Latitude vs. Humidity Plot"
   ]
  },
  {
   "cell_type": "code",
   "execution_count": null,
   "metadata": {},
   "outputs": [],
   "source": [
    "plt.figure(figsize=(4,4))\n",
    "plt.scatter([data for data in Myweather_df['Lat']] ,[data for data in Myweather_df['Humidity']]\n",
    ",marker=\"o\",c='teal', edgecolors=\"black\") \n",
    "plt.title(\"City Latitude vs Humidity (\" + (time.strftime(\"%d/%m/%Y\"))+\" )\")\n",
    "plt.xlabel(\"Latitude\")\n",
    "plt.ylabel(\"Humidity %\")\n",
    "plt.savefig('lat_humd.png')\n"
   ]
  },
  {
   "cell_type": "markdown",
   "metadata": {},
   "source": [
    "#### Latitude vs. Cloudiness Plot"
   ]
  },
  {
   "cell_type": "code",
   "execution_count": null,
   "metadata": {},
   "outputs": [],
   "source": [
    "#plt.figure(figsize=(30,8))\n",
    "plt.scatter([data for data in Myweather_df['Lat']] ,[data for data in Myweather_df['Cloudiness']]\n",
    ",marker=\"o\",c='teal', edgecolors=\"black\")\n",
    "plt.title(\"City Latitude vs Cloudiness (\" + (time.strftime(\"%d/%m/%Y\"))+\" )\")\n",
    "plt.xlabel(\"Latitude\")\n",
    "plt.ylabel(\"Cloudiness %\")\n",
    "plt.savefig('lat_cloudiness.png')"
   ]
  },
  {
   "cell_type": "markdown",
   "metadata": {},
   "source": [
    "#### Latitude vs. Wind Speed Plot"
   ]
  },
  {
   "cell_type": "code",
   "execution_count": null,
   "metadata": {},
   "outputs": [],
   "source": [
    "#plt.figure(figsize=(30,8))\n",
    "plt.scatter([data for data in Myweather_df['Lat']] ,[data for data in Myweather_df['Wind Speed']]\n",
    ",marker=\"o\",c='teal', edgecolors=\"black\") \n",
    "plt.title(\"City Latitude vs Windspeed (\" + (time.strftime(\"%d/%m/%Y\"))+\" )\")\n",
    "plt.xlabel(\"Latitude\")\n",
    "plt.ylabel(\"Windspeed(mph)\")\n",
    "plt.savefig('lat_windspeed.png')"
   ]
  },
  {
   "cell_type": "code",
   "execution_count": null,
   "metadata": {},
   "outputs": [],
   "source": []
  }
 ],
 "metadata": {
  "anaconda-cloud": {},
  "kernelspec": {
   "display_name": "Python 3",
   "language": "python",
   "name": "python3"
  },
  "language_info": {
   "codemirror_mode": {
    "name": "ipython",
    "version": 3
   },
   "file_extension": ".py",
   "mimetype": "text/x-python",
   "name": "python",
   "nbconvert_exporter": "python",
   "pygments_lexer": "ipython3",
   "version": "3.7.0"
  }
 },
 "nbformat": 4,
 "nbformat_minor": 2
}
